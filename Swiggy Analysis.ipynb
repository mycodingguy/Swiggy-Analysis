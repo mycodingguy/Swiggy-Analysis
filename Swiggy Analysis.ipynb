{
 "cells": [
  {
   "cell_type": "markdown",
   "metadata": {},
   "source": [
    "<h1 style=\"text-align: center;\">Swiggy Data Analysis</h1>\n"
   ]
  },
  {
   "cell_type": "markdown",
   "metadata": {},
   "source": []
  },
  {
   "cell_type": "markdown",
   "metadata": {},
   "source": [
    "<h3>Overview of the Project:</h3>\n",
    "\n",
    "The Swiggy Data Analysis project aims to explore and derive insights from Swiggy's dataset, which likely contains information about food deliveries, customer orders, restaurant listings, and delivery times, among other features. The primary goal is to use this data for in-depth analysis, focusing on identifying patterns, trends, and performance indicators that could benefit stakeholders, such as restaurants, delivery partners, or the Swiggy platform itself."
   ]
  },
  {
   "cell_type": "markdown",
   "metadata": {},
   "source": [
    "<h5>Let's Dive Into Analysis</h5>"
   ]
  }
 ],
 "metadata": {
  "kernelspec": {
   "display_name": "base",
   "language": "python",
   "name": "python3"
  },
  "language_info": {
   "name": "python",
   "version": "3.12.4"
  }
 },
 "nbformat": 4,
 "nbformat_minor": 2
}
